{
 "cells": [
  {
   "cell_type": "code",
   "execution_count": 1,
   "metadata": {},
   "outputs": [],
   "source": [
    "import pandas as pd\n",
    "import numpy as np\n",
    "from datetime import datetime\n",
    "\n",
    "import sys\n",
    "sys.path.append('..')\n",
    "from ksvalidator import date_format, date_range"
   ]
  },
  {
   "cell_type": "code",
   "execution_count": 2,
   "metadata": {},
   "outputs": [
    {
     "ename": "Exception",
     "evalue": "Invalid date range detected.",
     "output_type": "error",
     "traceback": [
      "\u001b[1;31m---------------------------------------------------------------------------\u001b[0m",
      "\u001b[1;31mException\u001b[0m                                 Traceback (most recent call last)",
      "Cell \u001b[1;32mIn[2], line 8\u001b[0m\n\u001b[0;32m      5\u001b[0m fileName \u001b[39m=\u001b[39m  fileDate \u001b[39m+\u001b[39m \u001b[39m\"\u001b[39m\u001b[39m_Date_Error_Log\u001b[39m\u001b[39m\"\u001b[39m\n\u001b[0;32m      7\u001b[0m \u001b[39m# date_format(df, ['Sales Date'], '%d/%m/%Y', filePath + fileName)\u001b[39;00m\n\u001b[1;32m----> 8\u001b[0m date_range(data\u001b[39m=\u001b[39;49mdf, targetColumn\u001b[39m=\u001b[39;49m[\u001b[39m'\u001b[39;49m\u001b[39mSales Date\u001b[39;49m\u001b[39m'\u001b[39;49m], startDate\u001b[39m=\u001b[39;49m\u001b[39m'\u001b[39;49m\u001b[39m01/01/2023\u001b[39;49m\u001b[39m'\u001b[39;49m, endDate\u001b[39m=\u001b[39;49m\u001b[39m'\u001b[39;49m\u001b[39m01/03/2023\u001b[39;49m\u001b[39m'\u001b[39;49m, file\u001b[39m=\u001b[39;49mfilePath \u001b[39m+\u001b[39;49m fileName)\n",
      "File \u001b[1;32mc:\\Users\\yongooi2\\AppData\\Local\\Programs\\Python\\Python310\\lib\\site-packages\\ksvalidator\\date.py:114\u001b[0m, in \u001b[0;36mdate_range\u001b[1;34m(data, targetColumn, format, startDate, endDate, file)\u001b[0m\n\u001b[0;32m    112\u001b[0m \u001b[39mif\u001b[39;00m invalid:\n\u001b[0;32m    113\u001b[0m     log(file, logContent)\n\u001b[1;32m--> 114\u001b[0m     \u001b[39mraise\u001b[39;00m \u001b[39mException\u001b[39;00m(\u001b[39m'\u001b[39m\u001b[39mInvalid date range detected.\u001b[39m\u001b[39m'\u001b[39m)\n",
      "\u001b[1;31mException\u001b[0m: Invalid date range detected."
     ]
    }
   ],
   "source": [
    "df = pd.DataFrame({'ID': [1, 2, 2], 'Sales Date': ['01/01/2023', '02/02/2023', '03/03/2023']})\n",
    "curDate = datetime.now()\n",
    "filePath = sys.path[0] + '.\\\\Output\\\\'\n",
    "fileDate = curDate.strftime(\"%y%m%d\")\n",
    "fileName =  fileDate + \"_Date_Error_Log\"\n",
    "\n",
    "# date_format(df, ['Sales Date'], '%d/%m/%Y', filePath + fileName)\n",
    "date_range(data=df, targetColumn=['Sales Date'], startDate='01/01/2023', endDate='01/03/2023', file=filePath + fileName)"
   ]
  }
 ],
 "metadata": {
  "kernelspec": {
   "display_name": "Python 3",
   "language": "python",
   "name": "python3"
  },
  "language_info": {
   "codemirror_mode": {
    "name": "ipython",
    "version": 3
   },
   "file_extension": ".py",
   "mimetype": "text/x-python",
   "name": "python",
   "nbconvert_exporter": "python",
   "pygments_lexer": "ipython3",
   "version": "3.10.0 (tags/v3.10.0:b494f59, Oct  4 2021, 19:00:18) [MSC v.1929 64 bit (AMD64)]"
  },
  "orig_nbformat": 4,
  "vscode": {
   "interpreter": {
    "hash": "24e36e7ea4d10ba9e7477aea9567a37ca5c4fc69c9e8e0a428100f652d1d97a2"
   }
  }
 },
 "nbformat": 4,
 "nbformat_minor": 2
}
