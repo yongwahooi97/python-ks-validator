{
 "cells": [
  {
   "cell_type": "code",
   "execution_count": 4,
   "metadata": {},
   "outputs": [],
   "source": [
    "import pandas as pd\n",
    "import numpy as np\n",
    "from datetime import datetime\n",
    "\n",
    "import sys\n",
    "sys.path.append('..')\n",
    "from ksvalidator import contains, error_log"
   ]
  },
  {
   "cell_type": "code",
   "execution_count": 5,
   "metadata": {},
   "outputs": [],
   "source": [
    "try: \n",
    "    df = pd.DataFrame({'ID': [1, 2, 2], 'Category': ['A1001Z', 'B1001Y', 'A1002Z']})\n",
    "    curDate = datetime.now()\n",
    "    filePath = sys.path[0] + '.\\\\Output\\\\'\n",
    "    fileDate = curDate.strftime(\"%y%m%d\")\n",
    "    fileName =  fileDate + \"_Contains_Error_Log\"\n",
    "    contains(d,)\n",
    "    contains(df, ['Category'], '10201', filePath + fileName)\n",
    "except Exception as e:\n",
    "    file_path = sys.path[0] + \"\\\\Output\\\\Error_Log.txt\"\n",
    "    error_log(\"Test\", e, file_path)"
   ]
  }
 ],
 "metadata": {
  "kernelspec": {
   "display_name": "Python 3",
   "language": "python",
   "name": "python3"
  },
  "language_info": {
   "codemirror_mode": {
    "name": "ipython",
    "version": 3
   },
   "file_extension": ".py",
   "mimetype": "text/x-python",
   "name": "python",
   "nbconvert_exporter": "python",
   "pygments_lexer": "ipython3",
   "version": "3.10.0 (tags/v3.10.0:b494f59, Oct  4 2021, 19:00:18) [MSC v.1929 64 bit (AMD64)]"
  },
  "orig_nbformat": 4,
  "vscode": {
   "interpreter": {
    "hash": "24e36e7ea4d10ba9e7477aea9567a37ca5c4fc69c9e8e0a428100f652d1d97a2"
   }
  }
 },
 "nbformat": 4,
 "nbformat_minor": 2
}
